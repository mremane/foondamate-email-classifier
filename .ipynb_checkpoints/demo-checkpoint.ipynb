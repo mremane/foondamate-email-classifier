{
 "cells": [
  {
   "cell_type": "markdown",
   "id": "78af1663-c2ec-4e3e-90cb-f0fc8924ad01",
   "metadata": {},
   "source": [
    "#### Demo Predictions\n",
    "Trying out the class before writing proper unit tests..."
   ]
  },
  {
   "cell_type": "code",
   "execution_count": 8,
   "id": "c3cc55fb-9fca-4696-964b-e33ac4dcbcdf",
   "metadata": {},
   "outputs": [],
   "source": [
    "from classifier.classifier import Classifier"
   ]
  },
  {
   "cell_type": "code",
   "execution_count": 9,
   "id": "a97d60de-cacd-4b5c-a3cf-b31baa90cbb3",
   "metadata": {},
   "outputs": [],
   "source": [
    "classifier = Classifier('model.pkl')"
   ]
  },
  {
   "cell_type": "code",
   "execution_count": 10,
   "id": "ff63e937-1813-46c0-b612-6f21cbeb7012",
   "metadata": {},
   "outputs": [
    {
     "ename": "TypeError",
     "evalue": "Text parameter cannot be null.",
     "output_type": "error",
     "traceback": [
      "\u001b[0;31m---------------------------------------------------------------------------\u001b[0m",
      "\u001b[0;31mTypeError\u001b[0m                                 Traceback (most recent call last)",
      "Cell \u001b[0;32mIn[10], line 1\u001b[0m\n\u001b[0;32m----> 1\u001b[0m \u001b[43mclassifier\u001b[49m\u001b[38;5;241;43m.\u001b[39;49m\u001b[43mclassify\u001b[49m\u001b[43m(\u001b[49m\u001b[38;5;28;43;01mNone\u001b[39;49;00m\u001b[43m)\u001b[49m\n",
      "File \u001b[0;32m~/Desktop/interviews/foondamate/classifier/classifier.py:10\u001b[0m, in \u001b[0;36mClassifier.classify\u001b[0;34m(self, sentence)\u001b[0m\n\u001b[1;32m      8\u001b[0m \u001b[38;5;28;01mdef\u001b[39;00m \u001b[38;5;21mclassify\u001b[39m(\u001b[38;5;28mself\u001b[39m, sentence):\n\u001b[1;32m      9\u001b[0m     \u001b[38;5;28;01mif\u001b[39;00m sentence \u001b[38;5;129;01mis\u001b[39;00m \u001b[38;5;28;01mNone\u001b[39;00m:\n\u001b[0;32m---> 10\u001b[0m         \u001b[38;5;28;01mraise\u001b[39;00m \u001b[38;5;167;01mTypeError\u001b[39;00m(\u001b[38;5;124m'\u001b[39m\u001b[38;5;124mText parameter cannot be null.\u001b[39m\u001b[38;5;124m'\u001b[39m)\n\u001b[1;32m     11\u001b[0m     \u001b[38;5;28;01mif\u001b[39;00m \u001b[38;5;129;01mnot\u001b[39;00m sentence:\n\u001b[1;32m     12\u001b[0m         \u001b[38;5;28;01mraise\u001b[39;00m \u001b[38;5;167;01mValueError\u001b[39;00m(\u001b[38;5;124m'\u001b[39m\u001b[38;5;124mCannot convert empty string\u001b[39m\u001b[38;5;124m'\u001b[39m)\n",
      "\u001b[0;31mTypeError\u001b[0m: Text parameter cannot be null."
     ]
    }
   ],
   "source": [
    "classifier.classify(None)"
   ]
  },
  {
   "cell_type": "code",
   "execution_count": 11,
   "id": "22d4e709-d6f2-4b82-93ac-c073de7beb59",
   "metadata": {},
   "outputs": [
    {
     "ename": "ValueError",
     "evalue": "Cannot convert empty string",
     "output_type": "error",
     "traceback": [
      "\u001b[0;31m---------------------------------------------------------------------------\u001b[0m",
      "\u001b[0;31mValueError\u001b[0m                                Traceback (most recent call last)",
      "Cell \u001b[0;32mIn[11], line 1\u001b[0m\n\u001b[0;32m----> 1\u001b[0m \u001b[43mclassifier\u001b[49m\u001b[38;5;241;43m.\u001b[39;49m\u001b[43mclassify\u001b[49m\u001b[43m(\u001b[49m\u001b[38;5;124;43m'\u001b[39;49m\u001b[38;5;124;43m'\u001b[39;49m\u001b[43m)\u001b[49m\n",
      "File \u001b[0;32m~/Desktop/interviews/foondamate/classifier/classifier.py:12\u001b[0m, in \u001b[0;36mClassifier.classify\u001b[0;34m(self, sentence)\u001b[0m\n\u001b[1;32m     10\u001b[0m     \u001b[38;5;28;01mraise\u001b[39;00m \u001b[38;5;167;01mTypeError\u001b[39;00m(\u001b[38;5;124m'\u001b[39m\u001b[38;5;124mText parameter cannot be null.\u001b[39m\u001b[38;5;124m'\u001b[39m)\n\u001b[1;32m     11\u001b[0m \u001b[38;5;28;01mif\u001b[39;00m \u001b[38;5;129;01mnot\u001b[39;00m sentence:\n\u001b[0;32m---> 12\u001b[0m     \u001b[38;5;28;01mraise\u001b[39;00m \u001b[38;5;167;01mValueError\u001b[39;00m(\u001b[38;5;124m'\u001b[39m\u001b[38;5;124mCannot convert empty string\u001b[39m\u001b[38;5;124m'\u001b[39m)\n\u001b[1;32m     13\u001b[0m prediction \u001b[38;5;241m=\u001b[39m \u001b[38;5;28mself\u001b[39m\u001b[38;5;241m.\u001b[39m_model\u001b[38;5;241m.\u001b[39mpredict([sentence])\u001b[38;5;241m.\u001b[39mtolist()\u001b[38;5;241m.\u001b[39mpop()\n\u001b[1;32m     14\u001b[0m \u001b[38;5;28;01mreturn\u001b[39;00m \u001b[38;5;124m'\u001b[39m\u001b[38;5;124mStudent has shared.\u001b[39m\u001b[38;5;124m'\u001b[39m \u001b[38;5;28;01mif\u001b[39;00m prediction\u001b[38;5;241m==\u001b[39m\u001b[38;5;241m1\u001b[39m \u001b[38;5;28;01melse\u001b[39;00m \u001b[38;5;124m'\u001b[39m\u001b[38;5;124mStudent wants to know if can share.\u001b[39m\u001b[38;5;124m'\u001b[39m\n",
      "\u001b[0;31mValueError\u001b[0m: Cannot convert empty string"
     ]
    }
   ],
   "source": [
    "classifier.classify('')"
   ]
  },
  {
   "cell_type": "code",
   "execution_count": 12,
   "id": "f49e59e2-a8d4-46f6-b963-023bfd6aa370",
   "metadata": {},
   "outputs": [
    {
     "data": {
      "text/plain": [
       "'Student wants to know if can share.'"
      ]
     },
     "execution_count": 12,
     "metadata": {},
     "output_type": "execute_result"
    }
   ],
   "source": [
    "classifier.classify('Can I share your email')"
   ]
  },
  {
   "cell_type": "code",
   "execution_count": 13,
   "id": "958baf96-a58b-4676-abca-c1bde2481834",
   "metadata": {},
   "outputs": [
    {
     "data": {
      "text/plain": [
       "'Student has shared.'"
      ]
     },
     "execution_count": 13,
     "metadata": {},
     "output_type": "execute_result"
    }
   ],
   "source": [
    "classifier.classify('I have shared your email')"
   ]
  },
  {
   "cell_type": "code",
   "execution_count": 14,
   "id": "01b97314-cb94-4083-91a7-add9749cd645",
   "metadata": {},
   "outputs": [
    {
     "data": {
      "text/plain": [
       "'Student wants to know if can share.'"
      ]
     },
     "execution_count": 14,
     "metadata": {},
     "output_type": "execute_result"
    }
   ],
   "source": [
    "classifier.classify('May we share your email')"
   ]
  },
  {
   "cell_type": "code",
   "execution_count": null,
   "id": "dba2a616-3b3d-4cb5-8326-9b18e98f37c3",
   "metadata": {},
   "outputs": [],
   "source": []
  }
 ],
 "metadata": {
  "kernelspec": {
   "display_name": "Python 3 (ipykernel)",
   "language": "python",
   "name": "python3"
  },
  "language_info": {
   "codemirror_mode": {
    "name": "ipython",
    "version": 3
   },
   "file_extension": ".py",
   "mimetype": "text/x-python",
   "name": "python",
   "nbconvert_exporter": "python",
   "pygments_lexer": "ipython3",
   "version": "3.9.16"
  }
 },
 "nbformat": 4,
 "nbformat_minor": 5
}
