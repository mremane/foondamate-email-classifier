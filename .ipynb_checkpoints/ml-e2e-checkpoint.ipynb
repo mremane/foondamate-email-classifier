{
 "cells": [
  {
   "cell_type": "markdown",
   "id": "7a3fdaca-7454-45d4-b46f-c002f7c72942",
   "metadata": {},
   "source": [
    "### ML End-to-end\n",
    " 1. Load and engineer dataset\n",
    " 2. EDA\n",
    " 3. Modelling\n",
    " 4. Validation\n",
    " 5. Export model"
   ]
  },
  {
   "cell_type": "code",
   "execution_count": 1,
   "id": "957da26f-feac-4bb4-82b6-5a0d8dd6a336",
   "metadata": {},
   "outputs": [],
   "source": [
    "import pandas as pd\n",
    "import numpy as np\n",
    "import spacy\n",
    "import contractions"
   ]
  },
  {
   "cell_type": "code",
   "execution_count": 15,
   "id": "9911992b-0d78-42d2-b1db-0761fa5ac5e2",
   "metadata": {},
   "outputs": [],
   "source": [
    "# Sklearn Libraries\n",
    "from sklearn.model_selection import train_test_split, GridSearchCV\n",
    "from sklearn.pipeline import Pipeline\n",
    "from sklearn.feature_extraction.text import CountVectorizer,TfidfTransformer\n",
    "from sklearn.ensemble import RandomForestClassifier\n",
    "from sklearn.metrics import f1_score,confusion_matrix\n",
    "\n",
    "# Save pipeline as pickle\n",
    "import joblib"
   ]
  },
  {
   "cell_type": "code",
   "execution_count": 3,
   "id": "d2603b93-d623-4b4f-829d-c2316cedd4fa",
   "metadata": {},
   "outputs": [],
   "source": [
    "df = pd.read_csv('data/dataset.csv')"
   ]
  },
  {
   "cell_type": "code",
   "execution_count": 4,
   "id": "401fe1bf-dc7a-4656-b21f-e3fc94350936",
   "metadata": {},
   "outputs": [
    {
     "data": {
      "text/plain": [
       "Index(['sentence', 'label'], dtype='object')"
      ]
     },
     "execution_count": 4,
     "metadata": {},
     "output_type": "execute_result"
    }
   ],
   "source": [
    "df.columns"
   ]
  },
  {
   "cell_type": "code",
   "execution_count": 5,
   "id": "6088669e-2b4c-446e-8013-66709060882c",
   "metadata": {},
   "outputs": [
    {
     "data": {
      "text/html": [
       "<div>\n",
       "<style scoped>\n",
       "    .dataframe tbody tr th:only-of-type {\n",
       "        vertical-align: middle;\n",
       "    }\n",
       "\n",
       "    .dataframe tbody tr th {\n",
       "        vertical-align: top;\n",
       "    }\n",
       "\n",
       "    .dataframe thead th {\n",
       "        text-align: right;\n",
       "    }\n",
       "</style>\n",
       "<table border=\"1\" class=\"dataframe\">\n",
       "  <thead>\n",
       "    <tr style=\"text-align: right;\">\n",
       "      <th></th>\n",
       "      <th>sentence</th>\n",
       "      <th>label</th>\n",
       "    </tr>\n",
       "  </thead>\n",
       "  <tbody>\n",
       "    <tr>\n",
       "      <th>0</th>\n",
       "      <td>I shared your email</td>\n",
       "      <td>Student has shared</td>\n",
       "    </tr>\n",
       "    <tr>\n",
       "      <th>1</th>\n",
       "      <td>I just shared your address</td>\n",
       "      <td>Student has shared</td>\n",
       "    </tr>\n",
       "    <tr>\n",
       "      <th>2</th>\n",
       "      <td>Ive sent your email address to my friend</td>\n",
       "      <td>Student has shared</td>\n",
       "    </tr>\n",
       "    <tr>\n",
       "      <th>3</th>\n",
       "      <td>Ive shared your email</td>\n",
       "      <td>Student has shared</td>\n",
       "    </tr>\n",
       "    <tr>\n",
       "      <th>4</th>\n",
       "      <td>I already shared email</td>\n",
       "      <td>Student has shared</td>\n",
       "    </tr>\n",
       "  </tbody>\n",
       "</table>\n",
       "</div>"
      ],
      "text/plain": [
       "                                   sentence               label\n",
       "0                       I shared your email  Student has shared\n",
       "1                I just shared your address  Student has shared\n",
       "2  Ive sent your email address to my friend  Student has shared\n",
       "3                     Ive shared your email  Student has shared\n",
       "4                    I already shared email  Student has shared"
      ]
     },
     "execution_count": 5,
     "metadata": {},
     "output_type": "execute_result"
    }
   ],
   "source": [
    "df.head(5)"
   ]
  },
  {
   "cell_type": "markdown",
   "id": "170c1849-d0e0-40b8-8860-ac514da9f627",
   "metadata": {},
   "source": [
    "I'm going to approach this problem as binary classification"
   ]
  },
  {
   "cell_type": "code",
   "execution_count": 6,
   "id": "6322ac5a-bfc8-414c-84d4-2d89b92f14e3",
   "metadata": {},
   "outputs": [],
   "source": [
    "df['label'] = np.where(df.label == 'Student has shared', 1, 0)"
   ]
  },
  {
   "cell_type": "code",
   "execution_count": 7,
   "id": "c2b63bbd-c1bf-404d-87e3-7504a41cc273",
   "metadata": {},
   "outputs": [
    {
     "data": {
      "text/html": [
       "<div>\n",
       "<style scoped>\n",
       "    .dataframe tbody tr th:only-of-type {\n",
       "        vertical-align: middle;\n",
       "    }\n",
       "\n",
       "    .dataframe tbody tr th {\n",
       "        vertical-align: top;\n",
       "    }\n",
       "\n",
       "    .dataframe thead th {\n",
       "        text-align: right;\n",
       "    }\n",
       "</style>\n",
       "<table border=\"1\" class=\"dataframe\">\n",
       "  <thead>\n",
       "    <tr style=\"text-align: right;\">\n",
       "      <th></th>\n",
       "      <th>sentence</th>\n",
       "      <th>label</th>\n",
       "    </tr>\n",
       "  </thead>\n",
       "  <tbody>\n",
       "    <tr>\n",
       "      <th>0</th>\n",
       "      <td>I shared your email</td>\n",
       "      <td>1</td>\n",
       "    </tr>\n",
       "    <tr>\n",
       "      <th>1</th>\n",
       "      <td>I just shared your address</td>\n",
       "      <td>1</td>\n",
       "    </tr>\n",
       "    <tr>\n",
       "      <th>2</th>\n",
       "      <td>Ive sent your email address to my friend</td>\n",
       "      <td>1</td>\n",
       "    </tr>\n",
       "    <tr>\n",
       "      <th>3</th>\n",
       "      <td>Ive shared your email</td>\n",
       "      <td>1</td>\n",
       "    </tr>\n",
       "    <tr>\n",
       "      <th>4</th>\n",
       "      <td>I already shared email</td>\n",
       "      <td>1</td>\n",
       "    </tr>\n",
       "  </tbody>\n",
       "</table>\n",
       "</div>"
      ],
      "text/plain": [
       "                                   sentence  label\n",
       "0                       I shared your email      1\n",
       "1                I just shared your address      1\n",
       "2  Ive sent your email address to my friend      1\n",
       "3                     Ive shared your email      1\n",
       "4                    I already shared email      1"
      ]
     },
     "execution_count": 7,
     "metadata": {},
     "output_type": "execute_result"
    }
   ],
   "source": [
    "df.head(5)"
   ]
  },
  {
   "cell_type": "code",
   "execution_count": 8,
   "id": "b1cb2e37-6eb1-4376-98a1-8570fdc6f161",
   "metadata": {},
   "outputs": [
    {
     "data": {
      "text/plain": [
       "1    70.0\n",
       "0    30.0\n",
       "Name: label, dtype: float64"
      ]
     },
     "execution_count": 8,
     "metadata": {},
     "output_type": "execute_result"
    }
   ],
   "source": [
    "round(df.label.value_counts(normalize=True),2)*100"
   ]
  },
  {
   "cell_type": "markdown",
   "id": "759a11cb-2ee0-49dd-a227-be5c63dea2c0",
   "metadata": {},
   "source": [
    "Only 1/3 of sentences have label 0 (_Student wants to know if can share_)"
   ]
  },
  {
   "cell_type": "code",
   "execution_count": 9,
   "id": "ebe04af6-58ac-44f6-b390-683e30593dce",
   "metadata": {},
   "outputs": [],
   "source": [
    "# Load spacy model for lemmatization\n",
    "nlp = spacy.load('en_core_web_sm', disable=['parser', 'ner'])"
   ]
  },
  {
   "cell_type": "code",
   "execution_count": 20,
   "id": "a76b7cd4-d3f7-40f3-831c-2239e002e374",
   "metadata": {},
   "outputs": [],
   "source": [
    "# Lemmatization was used initially as a preprocesser for CountVectorizer() but ultimately it was excluded.\n",
    "# It simplifying the dataset too much and removing word relationships.\n",
    "# Would work better for a more complex dataset.\n",
    "\n",
    "def clean_lemmatization(sentence):\n",
    "    expanded_words = []\n",
    "    for word in sentence.split():\n",
    "        expanded_words.append(contractions.fix(word))\n",
    "    expanded_text = ' '.join(expanded_words)\n",
    "    doc = nlp(expanded_text)\n",
    "    return \" \".join([token.lemma_ for token in doc])"
   ]
  },
  {
   "cell_type": "code",
   "execution_count": 12,
   "id": "a9b7962f-ccc0-495c-9ccc-cccfbc003196",
   "metadata": {},
   "outputs": [],
   "source": [
    "#Dependent Variable\n",
    "X = df.sentence\n",
    "\n",
    "#Independent Variable\n",
    "y = df.label\n",
    "\n",
    "X_train, X_test, y_train, y_test = train_test_split(X, y, shuffle = True, random_state=123)"
   ]
  },
  {
   "cell_type": "code",
   "execution_count": 39,
   "id": "5a649e7f-fac8-4493-8d9a-1a1bfebba51a",
   "metadata": {},
   "outputs": [
    {
     "name": "stdout",
     "output_type": "stream",
     "text": [
      "Best parameters: 0.8875 using {'clf__n_estimators': 100}\n",
      "Mean score of 0.8250 with a standard deviation of 0.10 | Parameters: {'clf__n_estimators': 10}\n",
      "Mean score of 0.8250 with a standard deviation of 0.10 | Parameters: {'clf__n_estimators': 50}\n",
      "Mean score of 0.8875 with a standard deviation of 0.11 | Parameters: {'clf__n_estimators': 100}\n",
      "Mean score of 0.8250 with a standard deviation of 0.10 | Parameters: {'clf__n_estimators': 1000}\n"
     ]
    }
   ],
   "source": [
    "pipeline = Pipeline([\n",
    "    ('vect', CountVectorizer(lowercase=True, ngram_range=(1,2))),\n",
    "    ('tfidf', TfidfTransformer()),\n",
    "    ('clf', RandomForestClassifier(class_weight='balanced', random_state=123))\n",
    "])\n",
    "\n",
    "# Grid search parameters for RF Classifier\n",
    "param_grid = {\n",
    "    'clf__n_estimators':[10, 50, 100, 1000]\n",
    "}\n",
    "\n",
    "grid = GridSearchCV(pipeline, cv=4, param_grid=param_grid)\n",
    "grid.fit(X_train,y_train)\n",
    "\n",
    "print(\"Best parameters: %0.4f using %s\" % (grid.best_score_, grid.best_params_))\n",
    "    \n",
    "means = grid.cv_results_['mean_test_score']\n",
    "stds = grid.cv_results_['std_test_score']\n",
    "params = grid.cv_results_['params']\n",
    "\n",
    "for mean, stdev, param in zip(means, stds, params):\n",
    "    print(\"Mean score of %0.4f with a standard deviation of %0.2f | Parameters: %r\" % (mean, stdev, param))"
   ]
  },
  {
   "cell_type": "code",
   "execution_count": 24,
   "id": "4f62eb63-c5ae-4bfc-b410-3d583b98583f",
   "metadata": {},
   "outputs": [],
   "source": [
    "best_model = grid.best_estimator_"
   ]
  },
  {
   "cell_type": "code",
   "execution_count": 27,
   "id": "75fe7a2c-74ce-4e07-b69b-4adaf1787636",
   "metadata": {},
   "outputs": [],
   "source": [
    "y_preds = best_model.predict(X_test)"
   ]
  },
  {
   "cell_type": "code",
   "execution_count": 34,
   "id": "dffef20c-f38d-4bbd-aa30-b169b7dc6e45",
   "metadata": {},
   "outputs": [
    {
     "data": {
      "text/plain": [
       "0.8333333333333334"
      ]
     },
     "execution_count": 34,
     "metadata": {},
     "output_type": "execute_result"
    }
   ],
   "source": [
    "best_model.score(X_test, y_test)"
   ]
  },
  {
   "cell_type": "code",
   "execution_count": 33,
   "id": "307631d1-800e-425e-bc74-947cbf4a4cfc",
   "metadata": {},
   "outputs": [
    {
     "data": {
      "text/plain": [
       "0.8571428571428571"
      ]
     },
     "execution_count": 33,
     "metadata": {},
     "output_type": "execute_result"
    }
   ],
   "source": [
    "f1_score(y_test, y_preds)"
   ]
  },
  {
   "cell_type": "code",
   "execution_count": 28,
   "id": "34555484-e988-4cb1-986a-e433a4aeb466",
   "metadata": {},
   "outputs": [
    {
     "data": {
      "text/plain": [
       "array([[2, 1],\n",
       "       [0, 3]])"
      ]
     },
     "execution_count": 28,
     "metadata": {},
     "output_type": "execute_result"
    }
   ],
   "source": [
    "confusion_matrix(y_test, y_preds)"
   ]
  },
  {
   "cell_type": "code",
   "execution_count": null,
   "id": "e91bb925-342b-4006-a0ee-c63355f13ecf",
   "metadata": {},
   "outputs": [],
   "source": [
    "joblib.dump(best_model, 'test.pkl')"
   ]
  }
 ],
 "metadata": {
  "kernelspec": {
   "display_name": "Python 3 (ipykernel)",
   "language": "python",
   "name": "python3"
  },
  "language_info": {
   "codemirror_mode": {
    "name": "ipython",
    "version": 3
   },
   "file_extension": ".py",
   "mimetype": "text/x-python",
   "name": "python",
   "nbconvert_exporter": "python",
   "pygments_lexer": "ipython3",
   "version": "3.9.16"
  }
 },
 "nbformat": 4,
 "nbformat_minor": 5
}
